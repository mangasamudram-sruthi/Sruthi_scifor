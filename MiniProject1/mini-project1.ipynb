{
  "nbformat": 4,
  "nbformat_minor": 0,
  "metadata": {
    "colab": {
      "provenance": [],
      "gpuType": "T4"
    },
    "kernelspec": {
      "name": "python3",
      "display_name": "Python 3"
    },
    "language_info": {
      "name": "python"
    },
    "accelerator": "GPU"
  },
  "cells": [
    {
      "cell_type": "code",
      "execution_count": null,
      "metadata": {
        "id": "pl9r4kNgHS2Q"
      },
      "outputs": [],
      "source": [
        "import os\n",
        "import zipfile\n",
        "import numpy as np\n",
        "import matplotlib.pyplot as plt\n",
        "import matplotlib.image as mpimg\n",
        "\n",
        "import tensorflow as tf\n",
        "from tensorflow import keras\n",
        "from tensorflow.keras.layers import Flatten, Dense\n",
        "from tensorflow.keras.optimizers import Adam\n",
        "from tensorflow.keras.preprocessing.image import ImageDataGenerator"
      ]
    },
    {
      "cell_type": "code",
      "source": [
        "#importing the contents from google drive\n",
        "from google.colab import drive\n",
        "drive.mount('/content/drive')"
      ],
      "metadata": {
        "colab": {
          "base_uri": "https://localhost:8080/"
        },
        "id": "-axKz-7yHVnz",
        "outputId": "cf19f23e-db8a-4658-b6b6-5ffd5d40a943"
      },
      "execution_count": null,
      "outputs": [
        {
          "output_type": "stream",
          "name": "stdout",
          "text": [
            "Drive already mounted at /content/drive; to attempt to forcibly remount, call drive.mount(\"/content/drive\", force_remount=True).\n"
          ]
        }
      ]
    },
    {
      "cell_type": "code",
      "source": [
        "forest_fire_data_path = '/content/drive/My Drive/fire_dataset'\n",
        "os.chdir(forest_fire_data_path)\n",
        "\n",
        "#List the folders in the directory\n",
        "os.listdir()"
      ],
      "metadata": {
        "colab": {
          "base_uri": "https://localhost:8080/"
        },
        "id": "fmiBwrueI4pY",
        "outputId": "737447a9-c481-4d24-8ef3-ed269107c560"
      },
      "execution_count": null,
      "outputs": [
        {
          "output_type": "execute_result",
          "data": {
            "text/plain": [
              "['non_fire_images', 'fire_images']"
            ]
          },
          "metadata": {},
          "execution_count": 14
        }
      ]
    },
    {
      "cell_type": "markdown",
      "source": [
        "Defining the directory of my dataset\n"
      ],
      "metadata": {
        "id": "fP15JXW1ahjL"
      }
    },
    {
      "cell_type": "code",
      "source": [
        "dataset_dir = '/content/drive/My Drive/fire_dataset/'\n"
      ],
      "metadata": {
        "id": "YMI7QPwuL3mH"
      },
      "execution_count": null,
      "outputs": []
    },
    {
      "cell_type": "markdown",
      "source": [
        "Extracting the file names and labels in the dataset\n"
      ],
      "metadata": {
        "id": "tDhYHM6LaWPd"
      }
    },
    {
      "cell_type": "code",
      "source": [
        "def extract_filenames_and_labels(dataset_dir):\n",
        "    filenames = []\n",
        "    labels = []\n",
        "\n",
        "    for label in os.listdir(dataset_dir):\n",
        "        label_dir = os.path.join(dataset_dir, label)\n",
        "        if os.path.isdir(label_dir):\n",
        "            for file in os.listdir(label_dir):\n",
        "                file_path = os.path.join(label_dir, file)\n",
        "                if os.path.isfile(file_path):\n",
        "                    filenames.append(file_path)\n",
        "                    labels.append(label)\n",
        "\n",
        "    return filenames, labels\n",
        "\n",
        "filenames, labels = extract_filenames_and_labels(dataset_dir)\n",
        "\n",
        "# Create a DataFrame\n",
        "df = pd.DataFrame({\n",
        "    'filename': filenames,\n",
        "    'label': labels\n",
        "})\n",
        "\n",
        "print(df.head())"
      ],
      "metadata": {
        "colab": {
          "base_uri": "https://localhost:8080/"
        },
        "id": "EMvYLsbXPs3k",
        "outputId": "8cd31e3b-d65f-45d7-8229-6c143d2d66d5"
      },
      "execution_count": null,
      "outputs": [
        {
          "output_type": "stream",
          "name": "stdout",
          "text": [
            "                                            filename            label\n",
            "0  /content/drive/My Drive/fire_dataset/non_fire_...  non_fire_images\n",
            "1  /content/drive/My Drive/fire_dataset/non_fire_...  non_fire_images\n",
            "2  /content/drive/My Drive/fire_dataset/non_fire_...  non_fire_images\n",
            "3  /content/drive/My Drive/fire_dataset/non_fire_...  non_fire_images\n",
            "4  /content/drive/My Drive/fire_dataset/non_fire_...  non_fire_images\n"
          ]
        }
      ]
    },
    {
      "cell_type": "markdown",
      "source": [
        "Finding the missing values present in the **dataset**"
      ],
      "metadata": {
        "id": "C_CEzqGpa5DG"
      }
    },
    {
      "cell_type": "code",
      "source": [
        "missing_values = df.isnull().sum()\n",
        "print(\"Missing values in each column:\")\n",
        "print(missing_values)\n",
        "\n",
        "# Identify rows with missing values\n",
        "rows_with_missing_values = df[df.isnull().any(axis=1)]\n",
        "print(\"Rows with missing values:\")\n",
        "print(rows_with_missing_values)\n"
      ],
      "metadata": {
        "colab": {
          "base_uri": "https://localhost:8080/"
        },
        "id": "oYNxF9sdQua9",
        "outputId": "f5d32f64-651f-46ab-a89b-4d5f9395c459"
      },
      "execution_count": null,
      "outputs": [
        {
          "output_type": "stream",
          "name": "stdout",
          "text": [
            "Missing values in each column:\n",
            "filename    0\n",
            "label       0\n",
            "dtype: int64\n",
            "Rows with missing values:\n",
            "Empty DataFrame\n",
            "Columns: [filename, label]\n",
            "Index: []\n"
          ]
        }
      ]
    },
    {
      "cell_type": "markdown",
      "source": [
        "Identifing the labels in my dataset"
      ],
      "metadata": {
        "id": "UjSoGScxbHE9"
      }
    },
    {
      "cell_type": "code",
      "source": [
        "unique_labels = df['label'].unique()\n",
        "print(\"Unique labels in the dataset:\")\n",
        "print(unique_labels)"
      ],
      "metadata": {
        "colab": {
          "base_uri": "https://localhost:8080/"
        },
        "id": "VvA0YonUSFAJ",
        "outputId": "d97bbab6-badf-4ce8-beac-6e0e36108dff"
      },
      "execution_count": null,
      "outputs": [
        {
          "output_type": "stream",
          "name": "stdout",
          "text": [
            "Unique labels in the dataset:\n",
            "['non_fire_images' 'fire_images']\n"
          ]
        }
      ]
    },
    {
      "cell_type": "code",
      "source": [
        "# Updating  the label dictionary for new labels\n",
        "label_dict = {'fire_images': 1, 'non_fire_images': 0}\n",
        "\n",
        "# Converting labels to binary format\n",
        "binary_labels = [label_dict.get(label, -1) for label in labels]\n",
        "\n",
        "# Checking for any labels not found in the dictionary\n",
        "if -1 in binary_labels:\n",
        "    print(\"These labels are not found in the dictionary.\")\n",
        "\n",
        "image_paths = df['filename'].tolist()"
      ],
      "metadata": {
        "id": "MLVG0nBGSTnB"
      },
      "execution_count": null,
      "outputs": []
    },
    {
      "cell_type": "markdown",
      "source": [
        "**Loading and preprocessing the images**"
      ],
      "metadata": {
        "id": "JIsJ87oLbhhv"
      }
    },
    {
      "cell_type": "code",
      "source": [
        "def load_and_preprocess_images(image_paths, labels, img_size=(224, 224)):\n",
        "    images = []\n",
        "\n",
        "    for img_path in image_paths:\n",
        "        # Load the image\n",
        "        img = image.load_img(img_path, target_size=img_size)\n",
        "\n",
        "\n",
        "        img_array = image.img_to_array(img)                          # image to a NumPy array\n",
        "\n",
        "\n",
        "        img_array = np.expand_dims(img_array, axis=0)                # Add dimension\n",
        "\n",
        "        # Preprocess the image\n",
        "        img_array = preprocess_input(img_array)\n",
        "\n",
        "        # Append the preprocessed image to the list\n",
        "        images.append(img_array)\n",
        "\n",
        "    # Convert the list of images to a NumPy array\n",
        "    images = np.vstack(images)\n",
        "\n",
        "    # Convert labels to a NumPy array\n",
        "    labels = np.array(labels)\n",
        "\n",
        "    return images, labels"
      ],
      "metadata": {
        "id": "1a3oSTsiSrwh"
      },
      "execution_count": null,
      "outputs": []
    },
    {
      "cell_type": "code",
      "source": [
        "# Converting labels using the updated dictionary\n",
        "image_paths = df['filename'].tolist()\n",
        "images, labels = load_and_preprocess_images(image_paths, binary_labels)"
      ],
      "metadata": {
        "id": "UgIEH2HdSy5q"
      },
      "execution_count": null,
      "outputs": []
    },
    {
      "cell_type": "code",
      "source": [
        "print(f\"Images shape: {images.shape}\")\n",
        "print(f\"Labels shape: {labels.shape}\")\n"
      ],
      "metadata": {
        "colab": {
          "base_uri": "https://localhost:8080/"
        },
        "id": "u3USYTl1S3Zt",
        "outputId": "26273f94-5f69-4f3e-9572-7a727ef2a797"
      },
      "execution_count": null,
      "outputs": [
        {
          "output_type": "stream",
          "name": "stdout",
          "text": [
            "Images shape: (999, 224, 224, 3)\n",
            "Labels shape: (999,)\n"
          ]
        }
      ]
    },
    {
      "cell_type": "markdown",
      "source": [],
      "metadata": {
        "id": "B8TQX848VLnE"
      }
    },
    {
      "cell_type": "markdown",
      "source": [
        "**Spliting the dataset into train and test sets**"
      ],
      "metadata": {
        "id": "-XtfHGyCVMDj"
      }
    },
    {
      "cell_type": "code",
      "source": [
        "# Split data into training and validation sets\n",
        "from sklearn.model_selection import train_test_split\n",
        "X_train, X_val, y_train, y_val = train_test_split(images, labels, test_size=0.2, random_state=42)\n",
        "\n",
        "print(f\"Training set shape: {X_train.shape}, {y_train.shape}\")\n",
        "print(f\"Validation set shape: {X_val.shape}, {y_val.shape}\")"
      ],
      "metadata": {
        "colab": {
          "base_uri": "https://localhost:8080/"
        },
        "id": "tHxy2UE2VCKu",
        "outputId": "41a3d104-85b5-4650-992a-b0f239b25534"
      },
      "execution_count": null,
      "outputs": [
        {
          "output_type": "stream",
          "name": "stdout",
          "text": [
            "Training set shape: (799, 224, 224, 3), (799,)\n",
            "Validation set shape: (200, 224, 224, 3), (200,)\n"
          ]
        }
      ]
    },
    {
      "cell_type": "markdown",
      "source": [
        "Using cnn model for traing the dataset"
      ],
      "metadata": {
        "id": "8AZ1veKKcVgi"
      }
    },
    {
      "cell_type": "code",
      "source": [
        "\n",
        "from tensorflow.keras.models import Sequential\n",
        "from tensorflow.keras.layers import Conv2D, MaxPooling2D, Flatten, Dense, Dropout"
      ],
      "metadata": {
        "id": "nWpjBkrEVGMk"
      },
      "execution_count": null,
      "outputs": []
    },
    {
      "cell_type": "code",
      "source": [
        "\n",
        "model = Sequential([\n",
        "    Conv2D(32, (3, 3), activation='relu', input_shape=(224, 224, 3)),\n",
        "    MaxPooling2D((2, 2)),\n",
        "    Conv2D(64, (3, 3), activation='relu'),\n",
        "    MaxPooling2D((2, 2)),\n",
        "    Conv2D(128, (3, 3), activation='relu'),\n",
        "    MaxPooling2D((2, 2)),\n",
        "    Flatten(),\n",
        "    Dense(512, activation='relu'),\n",
        "    Dropout(0.5),\n",
        "    Dense(1, activation='sigmoid')  # Use 'sigmoid' for binary classification\n",
        "])\n"
      ],
      "metadata": {
        "id": "5dvXhw0tVTix"
      },
      "execution_count": null,
      "outputs": []
    },
    {
      "cell_type": "code",
      "source": [
        "# Compiling the model\n",
        "model.compile(optimizer='adam', loss='binary_crossentropy', metrics=['accuracy'])\n"
      ],
      "metadata": {
        "id": "-1U6Z8zRVYgz"
      },
      "execution_count": null,
      "outputs": []
    },
    {
      "cell_type": "code",
      "source": [
        "# Training the model\n",
        "history = model.fit(X_train, y_train, epochs=10, validation_data=(X_val, y_val))"
      ],
      "metadata": {
        "colab": {
          "base_uri": "https://localhost:8080/"
        },
        "id": "AcxdHawBVh-j",
        "outputId": "ff54c345-bb20-4b35-a063-0d20f76454d9"
      },
      "execution_count": null,
      "outputs": [
        {
          "output_type": "stream",
          "name": "stdout",
          "text": [
            "Epoch 1/10\n",
            "25/25 [==============================] - 12s 153ms/step - loss: 32.6863 - accuracy: 0.8561 - val_loss: 0.5116 - val_accuracy: 0.9200\n",
            "Epoch 2/10\n",
            "25/25 [==============================] - 2s 73ms/step - loss: 0.2375 - accuracy: 0.9474 - val_loss: 0.1333 - val_accuracy: 0.9350\n",
            "Epoch 3/10\n",
            "25/25 [==============================] - 2s 71ms/step - loss: 0.1310 - accuracy: 0.9587 - val_loss: 0.0753 - val_accuracy: 0.9800\n",
            "Epoch 4/10\n",
            "25/25 [==============================] - 2s 71ms/step - loss: 0.0991 - accuracy: 0.9675 - val_loss: 0.1035 - val_accuracy: 0.9600\n",
            "Epoch 5/10\n",
            "25/25 [==============================] - 2s 65ms/step - loss: 0.0840 - accuracy: 0.9787 - val_loss: 0.1490 - val_accuracy: 0.9300\n",
            "Epoch 6/10\n",
            "25/25 [==============================] - 2s 65ms/step - loss: 0.0571 - accuracy: 0.9837 - val_loss: 0.0897 - val_accuracy: 0.9500\n",
            "Epoch 7/10\n",
            "25/25 [==============================] - 2s 67ms/step - loss: 0.0570 - accuracy: 0.9850 - val_loss: 0.0699 - val_accuracy: 0.9550\n",
            "Epoch 8/10\n",
            "25/25 [==============================] - 2s 65ms/step - loss: 0.0288 - accuracy: 0.9950 - val_loss: 0.0731 - val_accuracy: 0.9700\n",
            "Epoch 9/10\n",
            "25/25 [==============================] - 2s 65ms/step - loss: 0.0123 - accuracy: 0.9950 - val_loss: 0.1091 - val_accuracy: 0.9550\n",
            "Epoch 10/10\n",
            "25/25 [==============================] - 2s 65ms/step - loss: 0.0056 - accuracy: 1.0000 - val_loss: 0.0838 - val_accuracy: 0.9650\n"
          ]
        }
      ]
    },
    {
      "cell_type": "code",
      "source": [
        "# Ploting training history\n",
        "import matplotlib.pyplot as plt\n",
        "\n",
        "# Traini and validation accuracy\n",
        "plt.plot(history.history['accuracy'], label='Training Accuracy')\n",
        "plt.plot(history.history['val_accuracy'], label='Validation Accuracy')\n",
        "plt.xlabel('Epoch')\n",
        "plt.ylabel('Accuracy')\n",
        "plt.legend()\n",
        "plt.show()"
      ],
      "metadata": {
        "colab": {
          "base_uri": "https://localhost:8080/",
          "height": 449
        },
        "id": "lu3vJ2KIXSnX",
        "outputId": "9544b124-4e0a-4b44-8462-ba5d216439cd"
      },
      "execution_count": null,
      "outputs": [
        {
          "output_type": "display_data",
          "data": {
            "text/plain": [
              "<Figure size 640x480 with 1 Axes>"
            ],
            "image/png": "[encoded data removed]"
          },
          "metadata": {}
        }
      ]
    },
    {
      "cell_type": "code",
      "source": [
        "# Training and validation loss\n",
        "plt.plot(history.history['loss'], label='Training Loss')\n",
        "plt.plot(history.history['val_loss'], label='Validation Loss')\n",
        "plt.xlabel('Epoch')\n",
        "plt.ylabel('Loss')\n",
        "plt.legend()\n",
        "plt.show()"
      ],
      "metadata": {
        "colab": {
          "base_uri": "https://localhost:8080/",
          "height": 449
        },
        "id": "MpBpG0hLXTNH",
        "outputId": "f90acb07-1731-4e9e-c7d9-bc13d69f0976"
      },
      "execution_count": null,
      "outputs": [
        {
          "output_type": "display_data",
          "data": {
            "text/plain": [
              "<Figure size 640x480 with 1 Axes>"
            ],
            "image/png": "[encoded data removed]"
          },
          "metadata": {}
        }
      ]
    },
    {
      "cell_type": "code",
      "source": [
        "# Evaluating the model on the validation set\n",
        "val_loss, val_accuracy = model.evaluate(X_val, y_val, verbose=2)\n",
        "print(f\"Validation Loss: {val_loss}\")\n",
        "print(f\"Validation Accuracy: {val_accuracy}\")"
      ],
      "metadata": {
        "colab": {
          "base_uri": "https://localhost:8080/"
        },
        "id": "IZSkwegcXWGK",
        "outputId": "bb634e30-964b-4627-f9a6-8f33469826fd"
      },
      "execution_count": null,
      "outputs": [
        {
          "output_type": "stream",
          "name": "stdout",
          "text": [
            "7/7 - 0s - loss: 0.0838 - accuracy: 0.9650 - 182ms/epoch - 26ms/step\n",
            "Validation Loss: 0.08382462710142136\n",
            "Validation Accuracy: 0.9649999737739563\n"
          ]
        }
      ]
    },
    {
      "cell_type": "code",
      "source": [
        "# predictions on the validation set\n",
        "y_pred_prob = model.predict(X_val)\n",
        "y_pred = (y_pred_prob > 0.5).astype(int).flatten()"
      ],
      "metadata": {
        "colab": {
          "base_uri": "https://localhost:8080/"
        },
        "id": "xWqwnL5nXZoc",
        "outputId": "2432aa8f-89ab-4e9d-fdd1-9d481963b773"
      },
      "execution_count": null,
      "outputs": [
        {
          "output_type": "stream",
          "name": "stdout",
          "text": [
            "7/7 [==============================] - 0s 21ms/step\n"
          ]
        }
      ]
    },
    {
      "cell_type": "code",
      "source": [
        "#  classification report\n",
        "from sklearn.metrics import classification_report\n",
        "print(\"Classification Report:\")\n",
        "print(classification_report(y_val, y_pred, target_names=['non_fire_images', 'fire_images']))"
      ],
      "metadata": {
        "colab": {
          "base_uri": "https://localhost:8080/"
        },
        "id": "vDwi5kRXYfrW",
        "outputId": "0472cd2a-d8c2-4414-84bb-a7b39ced9622"
      },
      "execution_count": null,
      "outputs": [
        {
          "output_type": "stream",
          "name": "stdout",
          "text": [
            "Classification Report:\n",
            "                 precision    recall  f1-score   support\n",
            "\n",
            "non_fire_images       0.87      0.98      0.92        42\n",
            "    fire_images       0.99      0.96      0.98       158\n",
            "\n",
            "       accuracy                           0.96       200\n",
            "      macro avg       0.93      0.97      0.95       200\n",
            "   weighted avg       0.97      0.96      0.97       200\n",
            "\n"
          ]
        }
      ]
    },
    {
      "cell_type": "code",
      "source": [
        "# confusion matrix\n",
        "from sklearn.metrics import confusion_matrix\n",
        "import seaborn as sns\n",
        "cm = confusion_matrix(y_val, y_pred)\n",
        "\n",
        "# Create a DataFrame for better visualization\n",
        "cm_df = pd.DataFrame(cm, index=['non_fire_images', 'fire_images'], columns=['non_fire_images', 'fire_images'])\n",
        "\n",
        "# Plot the confusion matrix\n",
        "plt.figure(figsize=(8, 6))\n",
        "sns.heatmap(cm_df, annot=True, fmt='d', cmap='Blues', cbar=False,\n",
        "            xticklabels=['non_fire_images', 'fire_images'],\n",
        "            yticklabels=['non_fire_images', 'fire_images'])\n",
        "plt.xlabel('Predicted Labels')\n",
        "plt.ylabel('True Labels')\n",
        "plt.title('Confusion Matrix')\n",
        "plt.show()"
      ],
      "metadata": {
        "colab": {
          "base_uri": "https://localhost:8080/",
          "height": 564
        },
        "id": "wsD2-kiyZI6J",
        "outputId": "369978a3-f27f-4052-a5cc-0268fe5bf4b3"
      },
      "execution_count": null,
      "outputs": [
        {
          "output_type": "display_data",
          "data": {
            "text/plain": [
              "<Figure size 800x600 with 1 Axes>"
            ],
            "image/png": "[encoded data removed]"
          },
          "metadata": {}
        }
      ]
    },
    {
      "cell_type": "code",
      "source": [
        " #Load the ResNet50 model pre-trained on ImageNet\n",
        " from tensorflow.keras.applications.resnet50 import ResNet50, preprocess_input\n",
        "base_model = ResNet50(weights='imagenet', include_top=False, input_shape=(224, 224, 3))"
      ],
      "metadata": {
        "colab": {
          "base_uri": "https://localhost:8080/"
        },
        "id": "2zf1Pv_oZcaJ",
        "outputId": "e5793f92-eb1a-4ed2-e526-1bbd71c59ee9"
      },
      "execution_count": null,
      "outputs": [
        {
          "output_type": "stream",
          "name": "stdout",
          "text": [
            "Downloading data from https://storage.googleapis.com/tensorflow/keras-applications/resnet/resnet50_weights_tf_dim_ordering_tf_kernels_notop.h5\n",
            "94765736/94765736 [==============================] - 12s 0us/step\n"
          ]
        }
      ]
    },
    {
      "cell_type": "code",
      "source": [
        "# Add custom layers on top of the base model\n",
        "from tensorflow.keras.layers import Dense, GlobalAveragePooling2D\n",
        "x = base_model.output\n",
        "x = GlobalAveragePooling2D()(x)\n",
        "x = Dense(1024, activation='relu')(x)\n",
        "x = Dense(1, activation='sigmoid')(x)"
      ],
      "metadata": {
        "id": "nuZdM7DoeBF9"
      },
      "execution_count": null,
      "outputs": []
    },
    {
      "cell_type": "code",
      "source": [
        "# Define the complete model\n",
        "from tensorflow.keras.models import Model\n",
        "model = Model(inputs=base_model.input, outputs=x)\n"
      ],
      "metadata": {
        "id": "eney06Q8eqOm"
      },
      "execution_count": null,
      "outputs": []
    },
    {
      "cell_type": "code",
      "source": [
        "for layer in base_model.layers:\n",
        "    layer.trainable = False"
      ],
      "metadata": {
        "id": "PhpvT9Ipe2EV"
      },
      "execution_count": null,
      "outputs": []
    },
    {
      "cell_type": "code",
      "source": [
        "# Compile the model\n",
        "model.compile(optimizer='adam', loss='binary_crossentropy', metrics=['accuracy'])"
      ],
      "metadata": {
        "id": "dGMASFejfHYl"
      },
      "execution_count": null,
      "outputs": []
    },
    {
      "cell_type": "code",
      "source": [
        "# Unfreeze some layers and continue training (optional)\n",
        "# for layer in base_model.layers[-10:]:\n",
        "#     layer.trainable = True\n",
        "\n",
        "# model.compile(optimizer='adam', loss='binary_crossentropy', metrics=['accuracy'])\n",
        "# history_fine_tune = model.fit(X_train, y_train, epochs=10, validation_data=(X_val, y_val))\n",
        "\n",
        "# Generate predictions on the validation set\n",
        "y_pred_prob = model.predict(X_val)\n",
        "y_pred = (y_pred_prob > 0.5).astype(int).flatten()"
      ],
      "metadata": {
        "colab": {
          "base_uri": "https://localhost:8080/"
        },
        "id": "h5Ju_ZrXfKMZ",
        "outputId": "9a98b03d-8a6b-4345-bc6e-89423eee2840"
      },
      "execution_count": null,
      "outputs": [
        {
          "output_type": "stream",
          "name": "stdout",
          "text": [
            "7/7 [==============================] - 6s 266ms/step\n"
          ]
        }
      ]
    },
    {
      "cell_type": "code",
      "source": [
        "# Generate the classification report\n",
        "try:\n",
        "    report = classification_report(y_val, y_pred, target_names=['non_fire_images', 'fire_images'], output_dict=True)\n",
        "    # Extract precision from the classification report\n",
        "    precision_table = pd.DataFrame({\n",
        "        'Class': [key for key in report.keys() if key not in ['accuracy', 'macro avg', 'weighted avg']],\n",
        "        'Precision': [report[key]['precision'] for key in report.keys() if key not in ['accuracy', 'macro avg', 'weighted avg']]\n",
        "    })\n",
        "\n",
        "    print(\"Precision Table:\")\n",
        "    print(precision_table)\n",
        "except Exception as e:\n",
        "    print(f\"An error occurred while generating the classification report: {e}\")"
      ],
      "metadata": {
        "colab": {
          "base_uri": "https://localhost:8080/"
        },
        "id": "vKnMtfSifOnZ",
        "outputId": "ddd80499-3449-4a74-a633-e209182f52c2"
      },
      "execution_count": null,
      "outputs": [
        {
          "output_type": "stream",
          "name": "stdout",
          "text": [
            "Precision Table:\n",
            "             Class  Precision\n",
            "0  non_fire_images   0.000000\n",
            "1      fire_images   0.787879\n"
          ]
        }
      ]
    },
    {
      "cell_type": "code",
      "source": [
        "# Generate the confusion matrix\n",
        "cm = confusion_matrix(y_val, y_pred)\n",
        "\n",
        "# Create a DataFrame for better visualization\n",
        "cm_df = pd.DataFrame(cm, index=['non_fire_images', 'fire_images'], columns=['non_fire_images', 'fire_images'])\n",
        "\n",
        "# Plot the confusion matrix\n",
        "plt.figure(figsize=(8, 6))\n",
        "sns.heatmap(cm_df, annot=True, fmt='d', cmap='Blues', cbar=False,\n",
        "            xticklabels=['non_fire_images', 'fire_images'],\n",
        "            yticklabels=['non_fire_images', 'fire_images'])\n",
        "plt.xlabel('Predicted Labels')\n",
        "plt.ylabel('True Labels')\n",
        "plt.title('Confusion Matrix')\n",
        "plt.show()"
      ],
      "metadata": {
        "colab": {
          "base_uri": "https://localhost:8080/",
          "height": 564
        },
        "id": "PSJKHfKYfY4m",
        "outputId": "498b84fd-5f12-45ec-f4b7-b1e7abc1b70a"
      },
      "execution_count": null,
      "outputs": [
        {
          "output_type": "display_data",
          "data": {
            "text/plain": [
              "<Figure size 800x600 with 1 Axes>"
            ],
            "image/png": "[encoded data removed]"
          },
          "metadata": {}
        }
      ]
    },
    {
      "cell_type": "code",
      "source": [],
      "metadata": {
        "id": "KYApEn_DffdW"
      },
      "execution_count": null,
      "outputs": []
    }
  ]
}