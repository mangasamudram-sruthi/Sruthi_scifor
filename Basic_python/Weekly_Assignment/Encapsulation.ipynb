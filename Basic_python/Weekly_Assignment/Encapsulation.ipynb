{
  "nbformat": 4,
  "nbformat_minor": 0,
  "metadata": {
    "colab": {
      "provenance": []
    },
    "kernelspec": {
      "name": "python3",
      "display_name": "Python 3"
    },
    "language_info": {
      "name": "python"
    }
  },
  "cells": [
    {
      "cell_type": "markdown",
      "source": [
        "# Encapsulation"
      ],
      "metadata": {
        "id": "q_ih9zBXnwyA"
      }
    },
    {
      "cell_type": "markdown",
      "source": [
        "# **Definition:**\n",
        "\n",
        "\n",
        "\n",
        "\n",
        "Wrapping up data and methods together into a single unit is called Encapsulation. It helps in securing the content inside it. It restricts the direct access to the object's components inorder to prevent misuse of the data.The securing of data is done using access specifier.\n",
        "\n",
        "\n",
        "There are 3 primary access specifiers:\n",
        "\n",
        "Public: Members are accessible from outside the class.\n",
        "\n",
        "Private: Members are accessible only within the class itself.\n",
        "\n",
        "Protected: Members are accessible within the class and its subclasses.\n",
        "\n",
        "\n",
        "\n",
        "---\n",
        "# **Benefits of Encapsulation:**\n",
        "\n",
        "\n",
        "\n",
        "*   Improved Security\n",
        "\n",
        "*   Simplified Interface\n",
        "\n",
        "*   Flexibility and Maintainabilty\n",
        "\n",
        "\n",
        "\n",
        "\n",
        "\n",
        "\n"
      ],
      "metadata": {
        "id": "nd5YO465n3yG"
      }
    },
    {
      "cell_type": "code",
      "source": [
        "class Student:\n",
        "    def __init__(self,name,rollno,age):\n",
        "        self.name=name\n",
        "        self._rollno=rollno\n",
        "        self.__age= age\n",
        "    def __display(self):\n",
        "        print(f\"Hi myself {self.name} {self.__age} years old with rollno {self._rollno} from SNUC\")\n",
        "    def displayPrivateData(self):\n",
        "        self.__display()\n",
        "class Branch(Student):\n",
        "    def show(self):\n",
        "        print(f\"My rollno is {self._rollno}\")\n",
        "s1=Student(\"Sruthi\", 58, 19)\n",
        "s1._Student__display()\n"
      ],
      "metadata": {
        "colab": {
          "base_uri": "https://localhost:8080/"
        },
        "id": "2Nf5ZtgkqJy8",
        "outputId": "7ddd13e9-266e-4214-9487-39f306cb13ec"
      },
      "execution_count": 6,
      "outputs": [
        {
          "output_type": "stream",
          "name": "stdout",
          "text": [
            "Hi myself Sruthi 19 years old with rollno 58 from SNUC\n"
          ]
        }
      ]
    },
    {
      "cell_type": "markdown",
      "source": [
        "# **Explanation:**\n",
        "\n",
        "2 Classes - Student and Branch are defined.\n",
        "\n",
        "***Access Specifiers used are:***\n",
        "\n",
        "*   name is public: Can be accessed directly (s1.name).\n",
        "\n",
        "*   _rollno is protected: Meant to be accessed within the class and its subclasses.\n",
        "*   __age is private: Only accessible within the Student class.\n",
        "*  __display is a private method: Only accessible within the Student class.\n",
        "\n",
        "\"Branch\" class inherits from \"Student\" class.\n",
        "\n",
        "\n",
        "\n",
        "***As of for Example Usage :***\n",
        "\n",
        "We created a instance and accessed the private method using name mangling.\n",
        "\n",
        "\n",
        "\n",
        "\n",
        "\n"
      ],
      "metadata": {
        "id": "AgyF7MM40v-G"
      }
    },
    {
      "cell_type": "code",
      "source": [],
      "metadata": {
        "id": "xXsa4F1O090J"
      },
      "execution_count": null,
      "outputs": []
    }
  ]
}