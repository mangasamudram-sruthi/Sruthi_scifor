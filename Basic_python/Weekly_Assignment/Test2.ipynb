{
  "nbformat": 4,
  "nbformat_minor": 0,
  "metadata": {
    "colab": {
      "provenance": []
    },
    "kernelspec": {
      "name": "python3",
      "display_name": "Python 3"
    },
    "language_info": {
      "name": "python"
    }
  },
  "cells": [
    {
      "cell_type": "markdown",
      "source": [
        "INHERITANCE\n"
      ],
      "metadata": {
        "id": "D7CS8edccy0v"
      }
    },
    {
      "cell_type": "markdown",
      "source": [],
      "metadata": {
        "id": "e-b0-tuKdsrD"
      }
    },
    {
      "source": [
        "class Person:\n",
        "    def __init__(self, name, age, city): # Changed _init_ to __init__\n",
        "        self.name = name\n",
        "        self.age = age\n",
        "        self.city = city\n",
        "\n",
        "    def show_details(self):\n",
        "        print('The details are : ')\n",
        "        print('Name   : ', self.name)\n",
        "        print('Age    : ', self.age)\n",
        "        print('City   : ', self.city)\n",
        "\n",
        "    def update_city(self, new_city):\n",
        "        self.city = new_city\n",
        "        print('City updated to {} succesfully'.format(self.city))\n",
        "class Employee2(Person):\n",
        "    def __init__(self, name, age, city, salary, position, dept): # Changed _init_ to __init__\n",
        "        super().__init__(name, age, city)\n",
        "        self.salary = salary\n",
        "        self.position = position\n",
        "        self.department = dept\n",
        "\n",
        "    def show_details(self):\n",
        "        super().show_details()\n",
        "        print('Salary     :', self.salary)\n",
        "        print('Position   :', self.position)\n",
        "        print('Department :', self.department)\n",
        "\n",
        "    def update_salary(self, new_salary):\n",
        "        self.salary = new_salary\n",
        "        print('Salary updated to {} Successfully'.format(self.salary))\n",
        "\n",
        "    def inc_10(self):\n",
        "        self.salary = int(1.1 * self.salary)\n",
        "        print('Salary incremented by 10 % successfully : ', self.salary)\n",
        "\n",
        "    def dec_10(self):\n",
        "        self.salary = int(0.9 * self.salary)\n",
        "        print('Salary decreased by 10 % successfully : ', self.salary)\n",
        "\n",
        "    def change_pos(self, new_pos):\n",
        "        self.position = new_pos\n",
        "        print('Position has been changed to {} Successfully'.format(self.position))\n",
        "\n",
        "    def change_dept(self, new_dept):\n",
        "        self.department = new_dept\n",
        "        print('Department has been changed to {} Successfully')\n",
        "p1 = Person('Jon', 30, 'Gotham') # Removed extra argument\n",
        "p2 = Person('Tom', 50, 'Jaipur') # Removed extra argument\n",
        "p2.show_details()"
      ],
      "cell_type": "code",
      "metadata": {
        "colab": {
          "base_uri": "https://localhost:8080/"
        },
        "id": "K9uR9Og2ci6S",
        "outputId": "e485701e-bcac-4ed7-ea74-4215f1b68ef8"
      },
      "execution_count": 11,
      "outputs": [
        {
          "output_type": "stream",
          "name": "stdout",
          "text": [
            "The details are : \n",
            "Name   :  Tom\n",
            "Age    :  50\n",
            "City   :  Jaipur\n"
          ]
        }
      ]
    },
    {
      "cell_type": "markdown",
      "source": [
        "METHOD OVERRIDING\n"
      ],
      "metadata": {
        "id": "bq0ljxsHZcKo"
      }
    },
    {
      "cell_type": "code",
      "source": [
        "class Animal:\n",
        "    def Walk(self):\n",
        "        print('Hello, I am the parent class')\n",
        "\n",
        "class Dog(Animal):\n",
        "    def Walk(self):\n",
        "        print('Hello, I am the child class')\n",
        "\n",
        "print('The method Walk here is overridden in the code')\n",
        "\n",
        "r = Dog()\n",
        "r.Walk()\n",
        "\n",
        "r = Animal()\n",
        "r.Walk()"
      ],
      "metadata": {
        "colab": {
          "base_uri": "https://localhost:8080/"
        },
        "id": "IyrbNkulYKta",
        "outputId": "4efe3448-eabe-4e06-9f92-8004129c1907"
      },
      "execution_count": 5,
      "outputs": [
        {
          "output_type": "stream",
          "name": "stdout",
          "text": [
            "The method Walk here is overridden in the code\n",
            "Hello, I am the child class\n",
            "Hello, I am the parent class\n"
          ]
        }
      ]
    },
    {
      "cell_type": "markdown",
      "source": [
        "METHOD OVERLOADING"
      ],
      "metadata": {
        "id": "3SuRPlfxZU9v"
      }
    },
    {
      "cell_type": "code",
      "source": [
        "class Calculate:\n",
        "   def add(self, a, b, c = 0):\n",
        "     if c > 0:\n",
        "         print(\"a + b + c = {}\".format(a + b + c))\n",
        "     else:\n",
        "         print(\"a + b = {}\".format(a + b))\n",
        "\n",
        "c1 = Calculate()\n",
        "c1.add(10, 20, 30)\n",
        "c1.add(10,20)"
      ],
      "metadata": {
        "colab": {
          "base_uri": "https://localhost:8080/"
        },
        "id": "YpojgfbnYKv-",
        "outputId": "45a795b3-da75-4c7a-e1e4-4ad85f79dc62"
      },
      "execution_count": 6,
      "outputs": [
        {
          "output_type": "stream",
          "name": "stdout",
          "text": [
            "a + b + c = 60\n",
            "a + b = 30\n"
          ]
        }
      ]
    }
  ]
}